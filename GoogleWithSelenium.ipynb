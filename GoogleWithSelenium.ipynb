{
 "cells": [
  {
   "cell_type": "code",
   "execution_count": 10,
   "id": "3c9a2118",
   "metadata": {},
   "outputs": [
    {
     "name": "stderr",
     "output_type": "stream",
     "text": [
      "\n",
      "\n",
      "====== WebDriver manager ======\n",
      "Current google-chrome version is 98.0.4758\n",
      "Get LATEST chromedriver version for 98.0.4758 google-chrome\n",
      "Driver [/Users/yashasbvn/.wdm/drivers/chromedriver/mac64/98.0.4758.80/chromedriver] found in cache\n",
      "<ipython-input-10-5a1229bbc786>:21: DeprecationWarning: find_element_by_* commands are deprecated. Please use find_element() instead\n",
      "  driver.find_element_by_name(\"q\").send_keys(\"askew\\n\")\n",
      "<ipython-input-10-5a1229bbc786>:24: DeprecationWarning: find_element_by_* commands are deprecated. Please use find_element() instead\n",
      "  driver.find_element_by_name(\"q\").clear()\n",
      "<ipython-input-10-5a1229bbc786>:27: DeprecationWarning: find_element_by_* commands are deprecated. Please use find_element() instead\n",
      "  driver.find_element_by_name(\"q\").send_keys(\"google in 1998\\n\")\n"
     ]
    }
   ],
   "source": [
    "#Importing packages\n",
    "import selenium\n",
    "from selenium.webdriver.common.keys import Keys\n",
    "#import random\n",
    "import time\n",
    "from bs4 import BeautifulSoup as bs\n",
    "\n",
    "from selenium import webdriver\n",
    "from selenium.webdriver.chrome.service import Service\n",
    "from webdriver_manager.chrome import ChromeDriverManager\n",
    "\n",
    "#To open a Chrome window\n",
    "driver = webdriver.Chrome(service=Service(ChromeDriverManager().install()))\n",
    "\n",
    "#Storing URL\n",
    "google_url = \"https://www.google.com/\"\n",
    "\n",
    "#Opening the URL on a browser instance\n",
    "driver.get(google_url)\n",
    "\n",
    "time.sleep(5)\n",
    "\n",
    "try:\n",
    "    #Searching for askew\n",
    "    driver.find_element_by_name(\"q\").send_keys(\"askew\\n\")\n",
    "    time.sleep(10)\n",
    "    \n",
    "    #Clearing the search field\n",
    "    driver.find_element_by_name(\"q\").clear()\n",
    "    time.sleep(3)\n",
    "    \n",
    "    #Searching for Google in 1998\n",
    "    driver.find_element_by_name(\"q\").send_keys(\"google in 1998\\n\")\n",
    "    time.sleep(10)\n",
    "    \n",
    "except:\n",
    "    time.sleep(1)\n",
    "\n",
    "#Closing the browser instance\n",
    "driver.close()\n",
    "\n",
    "\n"
   ]
  }
 ],
 "metadata": {
  "kernelspec": {
   "display_name": "Python 3",
   "language": "python",
   "name": "python3"
  },
  "language_info": {
   "codemirror_mode": {
    "name": "ipython",
    "version": 3
   },
   "file_extension": ".py",
   "mimetype": "text/x-python",
   "name": "python",
   "nbconvert_exporter": "python",
   "pygments_lexer": "ipython3",
   "version": "3.8.8"
  }
 },
 "nbformat": 4,
 "nbformat_minor": 5
}
