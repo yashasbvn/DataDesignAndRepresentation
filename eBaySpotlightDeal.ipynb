{
 "cells": [
  {
   "cell_type": "markdown",
   "id": "17909f5d",
   "metadata": {},
   "source": [
   ]
  },
  {
   "cell_type": "code",
   "execution_count": 18,
   "id": "2dddb515",
   "metadata": {},
   "outputs": [],
   "source": [
    "import requests #Package used to call the GET method to access the web.\n",
    "from bs4 import BeautifulSoup #Package widely used for web-scraping."
   ]
  },
  {
   "cell_type": "code",
   "execution_count": 19,
   "id": "2e79e2f4",
   "metadata": {},
   "outputs": [],
   "source": [
    "#adding header to the get function to ensure there is no problem connecting to the website\n",
    "header = {\n",
    "        \"user-agent\": \"Mozilla/5.0 (Windows NT 10.0; Win64; x64) AppleWebKit/537.36 (KHTML, like Gecko) Chrome/74.0.3729.169 Safari/537.36\" ,\n"
    "    }"
   ]
  },
  {
   "cell_type": "code",
   "execution_count": 20,
   "id": "cee7a8e1",
   "metadata": {},
   "outputs": [
    {
     "name": "stdout",
     "output_type": "stream",
     "text": [
      "The item with a Spotlight deal is: Champion T-Shirt Tee Short Sleeve Crew Neck Classic Jersey Tagless 100% Cotton\n",
      "$7.99 is the new/reduced price\n",
      "$15.00 was the old price\n"
     ]
    }
   ],
   "source": [
    "#storing the URL in a variable url_ebay\n",
    "url_ebay = \"https://www.ebay.com/deals\"\n",
    "\n",
    "#Running the GET method to access the URL \n",
    "#We can also add an optional header if the connection does not work.\n",
    "deals = requests.get(url= url_ebay, header = header)\n",
    "\n",
    "#Running the BeautifulSoup function to modularize the html code from deals\n",
    "deals_parsed = BeautifulSoup(deals.text, 'lxml')\n",
    "\n",
    "#Extracting the item name\n",
    "item_name = deals_parsed.find(\"span\", class_=\"ebayui-ellipsis-3\", itemprop=\"name\")\n",
    "\n",
    "#Storing the name in a variable\n",
    "item_name_parsed = [\"The item with a Spotlight deal is: \", item_name.text]\n",
    "\n",
    "#Extracting the first spotlight deal's new price\n",
    "new_price = deals_parsed.find(\"span\", class_=\"first\", itemprop=\"price\") \n",
    "\n",
    "#Extracting the first spotlight deal's old price\n",
    "old_price = deals_parsed.find(\"span\", class_=\"itemtile-price-strikethrough\")\n",
    "\n",
    "#Variable to store the new price along with output text\n",
    "new_price_text = [new_price.text, \"is the new/reduced price\"]\n",
    "\n",
    "#Variable to store the old price along with output text\n",
    "old_price_text = [old_price.text, \"was the old price\"]\n",
    "\n",
    "#Concatenating the elements of the variables \n",
    "#to get the output in the desired format\n",
    "print(\"\".join(item_name_parsed))\n",
    "print(\" \".join(new_price_text))\n",
    "print(\"\".join(old_price_text))\n",
    "\n"
   ]
  }
 ],
 "metadata": {
  "kernelspec": {
   "display_name": "Python 3",
   "language": "python",
   "name": "python3"
  },
  "language_info": {
   "codemirror_mode": {
    "name": "ipython",
    "version": 3
   },
   "file_extension": ".py",
   "mimetype": "text/x-python",
   "name": "python",
   "nbconvert_exporter": "python",
   "pygments_lexer": "ipython3",
   "version": "3.8.8"
  }
 },
 "nbformat": 4,
 "nbformat_minor": 5
}
