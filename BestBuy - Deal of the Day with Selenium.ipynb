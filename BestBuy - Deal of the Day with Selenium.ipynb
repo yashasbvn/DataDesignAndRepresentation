{
 "cells": [
  {
   "cell_type": "code",
   "execution_count": 27,
   "id": "3c9a2118",
   "metadata": {},
   "outputs": [
    {
     "name": "stderr",
     "output_type": "stream",
     "text": [
      "\n",
      "\n",
      "====== WebDriver manager ======\n",
      "Current google-chrome version is 98.0.4758\n",
      "Get LATEST chromedriver version for 98.0.4758 google-chrome\n",
      "Driver [/Users/yashasbvn/.wdm/drivers/chromedriver/mac64/98.0.4758.80/chromedriver] found in cache\n",
      "<ipython-input-27-86c05e3268c7>:30: DeprecationWarning: find_element_by_* commands are deprecated. Please use find_element() instead\n",
      "  dotd_element = driver.find_element_by_xpath(\"//a[@data-lid='hdr_dotd']\")\n",
      "<ipython-input-27-86c05e3268c7>:39: DeprecationWarning: find_element_by_* commands are deprecated. Please use find_element() instead\n",
      "  dotd_product_page_element = driver.find_element_by_xpath(\"//a[@class='wf-offer-link v-line-clamp ']\")\n",
      "<ipython-input-27-86c05e3268c7>:44: DeprecationWarning: find_element_by_* commands are deprecated. Please use find_element() instead\n",
      "  dotd_reviews_page_element = driver.find_element_by_xpath(\"//span[@class='c-reviews-v4 c-reviews order-2']\")\n"
     ]
    },
    {
     "name": "stdout",
     "output_type": "stream",
     "text": [
      "Deal ends in 23:40:04\n"
     ]
    }
   ],
   "source": [
    "#Importing packages\n",
    "import selenium\n",
    "from selenium.webdriver.common.keys import Keys\n",
    "#import random\n",
    "import time\n",
    "from bs4 import BeautifulSoup\n",
    "\n",
    "from selenium import webdriver\n",
    "from selenium.webdriver.chrome.service import Service\n",
    "from webdriver_manager.chrome import ChromeDriverManager\n",
    "\n",
    "#To open a Chrome window\n",
    "driver = webdriver.Chrome(service=Service(ChromeDriverManager().install()))\n",
    "\n",
    "#Storing URL\n",
    "bestbuy_url = \"https://www.bestbuy.com/\"\n",
    "\n",
    "#Opening the URL on a browser instance\n",
    "driver.get(bestbuy_url)\n",
    "time.sleep(7)\n",
    "\n",
    "#The website sometimes shows a pop-up. Handling this by adding an 'Escape'\n",
    "webdriver.ActionChains(driver).send_keys(Keys.ESCAPE).perform()\n",
    "\n",
    "time.sleep(3)\n",
    "\n",
    "#Finding the \"Deal of the day\" button using XPath and clicking on it\n",
    "#a indicates it is a hyperlink and data-lid is the name of the element\n",
    "\n",
    "dotd_element = driver.find_element_by_xpath(\"//a[@data-lid='hdr_dotd']\")\n",
    "dotd_element.click()\n",
    "\n",
    "time.sleep(10)\n",
    "\n",
    "#####Now getting the page source to extract the time left in the deal\n",
    "dotd_page_source = driver.page_source\n",
    "\n",
    "#####Now navigating to the product page\n",
    "dotd_product_page_element = driver.find_element_by_xpath(\"//a[@class='wf-offer-link v-line-clamp ']\")\n",
    "dotd_product_page_element.click()\n",
    "\n",
    "time.sleep(10)\n",
    "#####Navigating to the reviews page by using the class name\n",
    "dotd_reviews_page_element = driver.find_element_by_xpath(\"//span[@class='c-reviews-v4 c-reviews order-2']\")\n",
    "dotd_reviews_page_element.click()\n",
    "\n",
    "time.sleep(3)\n",
    "\n",
    "#Storing the page source into a variable before saving as htm\n",
    "bestbuy_deal_of_the_day = driver.page_source\n",
    "\n",
    "time.sleep(3)\n",
    "\n",
    "#Closing the browser instance\n",
    "driver.close()\n",
    "\n",
    "#####Saving into a htm file\n",
    "\n",
    "f = open(\"bestbuy_deal_of_the_day.htm\", \"w\")\n",
    "f.write(bestbuy_deal_of_the_day)\n",
    "f.close()\n",
    "\n",
    "##### Using the previously saved variable to get the time left in the deal\n",
    "dotd_page_source_parsed = BeautifulSoup(dotd_page_source, 'lxml')\n",
    "\n",
    "deal_end_message = dotd_page_source_parsed.find(\"span\", attrs = {\"data-testid\":\"expiration-message\"})\n",
    "\n",
    "#Printing the countdown\n",
    "print(deal_end_message.text)\n",
    "\n"
   ]
  }
 ],
 "metadata": {
  "kernelspec": {
   "display_name": "Python 3",
   "language": "python",
   "name": "python3"
  },
  "language_info": {
   "codemirror_mode": {
    "name": "ipython",
    "version": 3
   },
   "file_extension": ".py",
   "mimetype": "text/x-python",
   "name": "python",
   "nbconvert_exporter": "python",
   "pygments_lexer": "ipython3",
   "version": "3.8.8"
  }
 },
 "nbformat": 4,
 "nbformat_minor": 5
}
